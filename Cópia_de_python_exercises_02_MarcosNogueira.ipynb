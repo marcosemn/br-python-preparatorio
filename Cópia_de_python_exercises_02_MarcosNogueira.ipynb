{
  "nbformat": 4,
  "nbformat_minor": 0,
  "metadata": {
    "colab": {
      "name": "Cópia de python_exercises_02_MarcosNogueira.ipynb",
      "provenance": [],
      "include_colab_link": true
    },
    "kernelspec": {
      "name": "python3",
      "display_name": "Python 3"
    }
  },
  "cells": [
    {
      "cell_type": "markdown",
      "metadata": {
        "id": "view-in-github",
        "colab_type": "text"
      },
      "source": [
        "<a href=\"https://colab.research.google.com/github/marcosemn/br-python-preparatorio/blob/master/C%C3%B3pia_de_python_exercises_02_MarcosNogueira.ipynb\" target=\"_parent\"><img src=\"https://colab.research.google.com/assets/colab-badge.svg\" alt=\"Open In Colab\"/></a>"
      ]
    },
    {
      "cell_type": "markdown",
      "metadata": {
        "id": "8YqaSZgXYJ5g",
        "colab_type": "text"
      },
      "source": [
        "![](https://i.imgur.com/YX6UATs.png)\n"
      ]
    },
    {
      "cell_type": "markdown",
      "metadata": {
        "id": "hhUVzDipaGb9",
        "colab_type": "text"
      },
      "source": [
        "### **Exercícios de Python - 2** \n",
        "\n",
        "\n",
        "\n"
      ]
    },
    {
      "cell_type": "markdown",
      "metadata": {
        "id": "7O6AZt8-aGlr",
        "colab_type": "text"
      },
      "source": [
        "1 - Faça um programa, com uma função que necessite de um argumento. A função retorna o valor de caractere ‘P’, se seu argumento for positivo, e ‘N’, se seu argumento for zero ou negativo.\n"
      ]
    },
    {
      "cell_type": "code",
      "metadata": {
        "id": "ibipMzmZcfIF",
        "colab_type": "code",
        "colab": {}
      },
      "source": [
        "def funcao(n):\n",
        "  if float(n)<=0:\n",
        "    print(\"N\")\n",
        "  else:\n",
        "    print(\"P\")  "
      ],
      "execution_count": null,
      "outputs": []
    },
    {
      "cell_type": "code",
      "metadata": {
        "id": "DhXQnNvb-w3Q",
        "colab_type": "code",
        "colab": {
          "base_uri": "https://localhost:8080/",
          "height": 34
        },
        "outputId": "90a2ab16-bba9-4ff5-89a5-49d6b9b0f552"
      },
      "source": [
        "funcao(0)"
      ],
      "execution_count": null,
      "outputs": [
        {
          "output_type": "stream",
          "text": [
            "N\n"
          ],
          "name": "stdout"
        }
      ]
    },
    {
      "cell_type": "markdown",
      "metadata": {
        "id": "c62cM2VlKFqN",
        "colab_type": "text"
      },
      "source": [
        "2 - Faça um programa que leia um nome de usuário e a sua senha e não aceite a senha igual ao nome do usuário, mostrando uma mensagem de erro."
      ]
    },
    {
      "cell_type": "code",
      "metadata": {
        "id": "A3ajzaOSq69B",
        "colab_type": "code",
        "colab": {
          "base_uri": "https://localhost:8080/",
          "height": 67
        },
        "outputId": "71816fd6-207f-4740-f76e-d96984ce594f"
      },
      "source": [
        "nome = input(\"nome: \")\n",
        "senha = input(\"senha: \")\n",
        "if str(nome) == str(senha):\n",
        "  print(\"Erro: sua senha não pode ser igual ao seu nome de usuário\")\n",
        "else:  \n",
        "  print(\"Bem-Vindo\")\n"
      ],
      "execution_count": null,
      "outputs": [
        {
          "output_type": "stream",
          "text": [
            "nome: marcosemn\n",
            "senha: 3\n",
            "Bem-Vindo\n"
          ],
          "name": "stdout"
        }
      ]
    },
    {
      "cell_type": "markdown",
      "metadata": {
        "id": "KdLXZftIaG60",
        "colab_type": "text"
      },
      "source": [
        "3 - Faça uma função cujo input é uma lista de números e que retorne a média e a mediana desses números sem a importação de módulos. \\\n",
        "*Dica: procure as fórmulas na internet, caso não se lembre*"
      ]
    },
    {
      "cell_type": "code",
      "metadata": {
        "id": "990mQ6UhdwKl",
        "colab_type": "code",
        "colab": {}
      },
      "source": [
        ""
      ],
      "execution_count": null,
      "outputs": []
    },
    {
      "cell_type": "markdown",
      "metadata": {
        "id": "qMGp-h8OaGqr",
        "colab_type": "text"
      },
      "source": [
        "4 - Utilizando listas faça um programa que faça 5 perguntas para uma pessoa sobre um crime. As perguntas são:\n",
        "- \"Telefonou para a vítima?\"\n",
        "- \"Esteve no local do crime?\"\n",
        "- \"Mora perto da vítima?\"\n",
        "- \"Devia para a vítima?\"\n",
        "- \"Já trabalhou com a vítima?\" \\\n",
        "O programa deve no final emitir uma classificação sobre a participação da pessoa no crime. Se a pessoa responder positivamente a 2 questões ela deve ser classificada como \"Suspeita\", entre 3 e 4 como \"Cúmplice\" e 5 como \"Assassino\". Caso contrário, ele será classificado como \"Inocente\"."
      ]
    },
    {
      "cell_type": "code",
      "metadata": {
        "id": "kTg-D89NdCld",
        "colab_type": "code",
        "colab": {
          "base_uri": "https://localhost:8080/",
          "height": 134
        },
        "outputId": "cf318944-f13c-48a3-a685-0f7536413335"
      },
      "source": [
        "resp1 = input(\"Telefonou para a vítima? \")\n",
        "resp2 = input(\"Esteve no local do crime? \")\n",
        "resp3 = input(\"Mora perto da vítima? \")\n",
        "resp4 = input(\"Devia para a vítima? \")\n",
        "resp5 = input(\"Já trabalhou com a vítima? \")\n",
        "\n",
        "lista_resp = [resp1,resp2,resp3,resp4,resp5]\n",
        "lista_n = []\n",
        "\n",
        "for i in lista_resp:\n",
        "  if i==\"Não\":\n",
        "    lista_n.append(0)\n",
        "  else:\n",
        "    lista_n.append(1)\n",
        "\n",
        "soma = lista_n[0]+lista_n[1]+lista_n[2]+lista_n[3]+lista_n[4]\n",
        "print(f'A pessoa teve {soma} resposta(s) positiva(s).')\n",
        "\n",
        "if soma==2:\n",
        "  print('A pessoa é Suspeita')\n",
        "elif soma==4 or soma==3:\n",
        "  print('A pessoa é Cúmplice')\n",
        "elif soma==5:\n",
        "  print('A pessoa é Assassina')\n",
        "else:\n",
        "  print('A pessoa é Inocente')    "
      ],
      "execution_count": 3,
      "outputs": [
        {
          "output_type": "stream",
          "text": [
            "Telefonou para a vítima? Não\n",
            "Esteve no local do crime? Não\n",
            "Mora perto da vítima? Não\n",
            "Devia para a vítima? Não\n",
            "Já trabalhou com a vítima? Não\n",
            "A pessoa teve 0 respostas positivas.\n",
            "A pessoa é Inocente\n"
          ],
          "name": "stdout"
        }
      ]
    },
    {
      "cell_type": "markdown",
      "metadata": {
        "id": "FTK9nE4pdB1D",
        "colab_type": "text"
      },
      "source": [
        "5 - A lista abaixo possui nomes de alunos de uma classe. Crie um loop que imprima '{nome} é aluno da classe'\n"
      ]
    },
    {
      "cell_type": "code",
      "metadata": {
        "id": "nW4SbDxTmx4t",
        "colab_type": "code",
        "colab": {}
      },
      "source": [
        "lista_nomes = ['Maria','João','Marcelo','Jonas','Laura','Luana']"
      ],
      "execution_count": 20,
      "outputs": []
    },
    {
      "cell_type": "code",
      "metadata": {
        "id": "0sRr8MXCpbGP",
        "colab_type": "code",
        "colab": {
          "base_uri": "https://localhost:8080/",
          "height": 118
        },
        "outputId": "7919fa9b-d1f1-43b0-b7f0-749fac9271e0"
      },
      "source": [
        "for nome in lista_nomes:\n",
        "  print(f\"{nome} é aluno da classe\")"
      ],
      "execution_count": 21,
      "outputs": [
        {
          "output_type": "stream",
          "text": [
            "Maria é aluno da classe\n",
            "João é aluno da classe\n",
            "Marcelo é aluno da classe\n",
            "Jonas é aluno da classe\n",
            "Laura é aluno da classe\n",
            "Luana é aluno da classe\n"
          ],
          "name": "stdout"
        }
      ]
    },
    {
      "cell_type": "markdown",
      "metadata": {
        "id": "_HbJNv8MaG4g",
        "colab_type": "text"
      },
      "source": [
        "6 - Utilizando-se da mesma lista trabalhada acima e a lista dada abaixo, que contem as idades dos alunos, realize um loop que faça a iteração com as duas listas printando \"{nome} tem {idade} anos\".\n",
        "Dica: utilize *zip*()"
      ]
    },
    {
      "cell_type": "code",
      "metadata": {
        "id": "LJDxmAbJeO9V",
        "colab_type": "code",
        "colab": {}
      },
      "source": [
        "lista_idade = [23,34,42,54,26,27] "
      ],
      "execution_count": 30,
      "outputs": []
    },
    {
      "cell_type": "code",
      "metadata": {
        "id": "Kq1Lc7Ukps-V",
        "colab_type": "code",
        "colab": {}
      },
      "source": [
        "lista_geral = zip(lista_nomes,lista_idade)\n",
        "lista_geral = list(lista_geral)\n",
        "minha_lista = {}\n",
        "for i in lista_geral:\n",
        "  minha_lista[i[0]]= {}\n",
        "  minha_lista[i[0]]['idade']=i[1]\n"
      ],
      "execution_count": 48,
      "outputs": []
    },
    {
      "cell_type": "code",
      "metadata": {
        "id": "aMDN94FRfTyZ",
        "colab_type": "code",
        "colab": {
          "base_uri": "https://localhost:8080/",
          "height": 118
        },
        "outputId": "4c2e4224-186e-4455-f85e-ec77f9859ca5"
      },
      "source": [
        "minha_lista"
      ],
      "execution_count": 54,
      "outputs": [
        {
          "output_type": "execute_result",
          "data": {
            "text/plain": [
              "{'Jonas': {'idade': 54},\n",
              " 'João': {'idade': 34},\n",
              " 'Laura': {'idade': 26},\n",
              " 'Luana': {'idade': 27},\n",
              " 'Marcelo': {'idade': 42},\n",
              " 'Maria': {'idade': 23}}"
            ]
          },
          "metadata": {
            "tags": []
          },
          "execution_count": 54
        }
      ]
    },
    {
      "cell_type": "code",
      "metadata": {
        "id": "ScPElNzEd7Yf",
        "colab_type": "code",
        "colab": {
          "base_uri": "https://localhost:8080/",
          "height": 118
        },
        "outputId": "8f3b4a64-0324-43a8-ff03-9f81b8617691"
      },
      "source": [
        "for i in minha_lista.keys():\n",
        "  print(f'{i} tem {minha_lista[i][\"idade\"]} anos')"
      ],
      "execution_count": 56,
      "outputs": [
        {
          "output_type": "stream",
          "text": [
            "Maria tem 23 anos\n",
            "João tem 34 anos\n",
            "Marcelo tem 42 anos\n",
            "Jonas tem 54 anos\n",
            "Laura tem 26 anos\n",
            "Luana tem 27 anos\n"
          ],
          "name": "stdout"
        }
      ]
    },
    {
      "cell_type": "markdown",
      "metadata": {
        "id": "0tkhm6EUaG1u",
        "colab_type": "text"
      },
      "source": [
        "7 - Transforme as duas listas anteriores em um dicionário cuja chave é o nome e o valor é a idade."
      ]
    },
    {
      "cell_type": "code",
      "metadata": {
        "id": "MNINJ32eU45M",
        "colab_type": "code",
        "colab": {
          "base_uri": "https://localhost:8080/",
          "height": 34
        },
        "outputId": "b4d913b7-6dba-4bfc-ee6b-879f4652580e"
      },
      "source": [
        "lista_geral = zip(lista_nomes,lista_idade)\n",
        "print(dict(lista_geral))"
      ],
      "execution_count": 41,
      "outputs": [
        {
          "output_type": "stream",
          "text": [
            "{'Maria': 23, 'João': 34, 'Marcelo': 42, 'Jonas': 54, 'Laura': 26, 'Luana': 27}\n"
          ],
          "name": "stdout"
        }
      ]
    },
    {
      "cell_type": "markdown",
      "metadata": {
        "id": "Lm1tOKThnU42",
        "colab_type": "text"
      },
      "source": [
        "Exercícios adaptados de Python Brasil"
      ]
    }
  ]
}