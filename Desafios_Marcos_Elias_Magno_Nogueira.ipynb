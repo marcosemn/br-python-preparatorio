{
  "nbformat": 4,
  "nbformat_minor": 0,
  "metadata": {
    "colab": {
      "name": "Desafios - Marcos Elias Magno Nogueira",
      "provenance": [],
      "authorship_tag": "ABX9TyM4wPFuLKVHlE57ySAubMmm",
      "include_colab_link": true
    },
    "kernelspec": {
      "name": "python3",
      "display_name": "Python 3"
    }
  },
  "cells": [
    {
      "cell_type": "markdown",
      "metadata": {
        "id": "view-in-github",
        "colab_type": "text"
      },
      "source": [
        "<a href=\"https://colab.research.google.com/github/marcosemn/br-python-preparatorio/blob/master/Desafios_Marcos_Elias_Magno_Nogueira.ipynb\" target=\"_parent\"><img src=\"https://colab.research.google.com/assets/colab-badge.svg\" alt=\"Open In Colab\"/></a>"
      ]
    },
    {
      "cell_type": "markdown",
      "metadata": {
        "id": "3NxNebAbEx-C"
      },
      "source": [
        "# Desafios Python\n",
        "\n",
        ">Author: Marcos Elias Magno Nogueira\n",
        "\n",
        ">Belo Horizonte, Oct/2020"
      ]
    },
    {
      "cell_type": "markdown",
      "metadata": {
        "id": "lT-a_oYlEmRo"
      },
      "source": [
        "Desafio 1\n",
        "\n",
        "Escreva um programa em Python para contabilizar a quantidade de ocorrências de cada palavra."
      ]
    },
    {
      "cell_type": "code",
      "metadata": {
        "id": "ZO6ltr6m2oUy"
      },
      "source": [
        "palavras = [\n",
        "   'red', 'green', 'black', 'pink', 'black', 'white', 'black', 'eyes',\n",
        "   'white', 'black', 'orange', 'pink', 'pink', 'red', 'red', 'white', 'orange',\n",
        "   'white', \"black\", 'pink', 'green', 'green', 'pink', 'green', 'pink',\n",
        "   'white', 'orange', \"orange\", 'red',\"red\",\"green\"\n",
        "]"
      ],
      "execution_count": 1,
      "outputs": []
    },
    {
      "cell_type": "code",
      "metadata": {
        "id": "eLy6jgaP22p5"
      },
      "source": [
        "def palavra():\n",
        "  print(f'lista de palavras: {sorted(set(palavras))}')\n",
        "  palavra = input(\"Qual palavra deseja contar?\")\n",
        "  registro=[]\n",
        "  for word in palavras:\n",
        "    if word == palavra:\n",
        "      registro.append(1)\n",
        "    else:\n",
        "      registro.append(0)\n",
        "  total = sum(registro)\n",
        "  return f'A palavra {palavra} possui {total} ocorrência(s).'        "
      ],
      "execution_count": 2,
      "outputs": []
    },
    {
      "cell_type": "code",
      "metadata": {
        "id": "YccD3FHr5G8Q",
        "outputId": "3cb77033-99a1-4b51-c2bf-667bf836a8db",
        "colab": {
          "base_uri": "https://localhost:8080/",
          "height": 69
        }
      },
      "source": [
        "palavra()"
      ],
      "execution_count": 3,
      "outputs": [
        {
          "output_type": "stream",
          "text": [
            "lista de palavras: ['black', 'eyes', 'green', 'orange', 'pink', 'red', 'white']\n",
            "Qual palavra deseja contar?black\n"
          ],
          "name": "stdout"
        },
        {
          "output_type": "execute_result",
          "data": {
            "application/vnd.google.colaboratory.intrinsic+json": {
              "type": "string"
            },
            "text/plain": [
              "'A palavra black possui 5 ocorrência(s).'"
            ]
          },
          "metadata": {
            "tags": []
          },
          "execution_count": 3
        }
      ]
    },
    {
      "cell_type": "markdown",
      "metadata": {
        "id": "SUhwfM2LEt_K"
      },
      "source": [
        "Desafio 2\n",
        "\n",
        "Escreva uma função que recebe um número inteiro de horas e a converte em segundos."
      ]
    },
    {
      "cell_type": "code",
      "metadata": {
        "id": "az3hqQzD629I"
      },
      "source": [
        "def segundos():\n",
        "  horas = input(\"Número de horas: \")\n",
        "  sec=int(horas)*3600\n",
        "  return f'{horas} horas possui(em) {sec} segundos.'"
      ],
      "execution_count": 4,
      "outputs": []
    },
    {
      "cell_type": "code",
      "metadata": {
        "id": "zmIzmsOp8gpB",
        "outputId": "75c8f6a8-62f7-4ef7-801e-d8dd55b901c9",
        "colab": {
          "base_uri": "https://localhost:8080/",
          "height": 52
        }
      },
      "source": [
        "segundos()"
      ],
      "execution_count": 5,
      "outputs": [
        {
          "output_type": "stream",
          "text": [
            "Número de horas: 5\n"
          ],
          "name": "stdout"
        },
        {
          "output_type": "execute_result",
          "data": {
            "application/vnd.google.colaboratory.intrinsic+json": {
              "type": "string"
            },
            "text/plain": [
              "'5 horas possui(em) 18000 segundos.'"
            ]
          },
          "metadata": {
            "tags": []
          },
          "execution_count": 5
        }
      ]
    },
    {
      "cell_type": "markdown",
      "metadata": {
        "id": "XhfcE-GU91dJ"
      },
      "source": [
        "Desafio 3\n",
        "\n",
        "Escreva uma função que receba uma lista e retorne uma nova lista ordenada e sem valores duplicados."
      ]
    },
    {
      "cell_type": "code",
      "metadata": {
        "id": "_gaqicU_-Be2"
      },
      "source": [
        "def ordenamento_lista(lista):\n",
        "  lista_ordenada=set(lista)\n",
        "  return sorted(lista_ordenada)"
      ],
      "execution_count": 6,
      "outputs": []
    },
    {
      "cell_type": "code",
      "metadata": {
        "id": "ZnqX9t1I-3bt",
        "outputId": "0cc35b16-38c1-4b8a-c62e-19387dd40849",
        "colab": {
          "base_uri": "https://localhost:8080/",
          "height": 34
        }
      },
      "source": [
        "lista = [1,2,3,4,3,30,3,4,5,6,9,3,2,1,2,4,5,15,6,6,3,13,4,45,5]\n",
        "print(ordenamento_lista(lista))"
      ],
      "execution_count": 7,
      "outputs": [
        {
          "output_type": "stream",
          "text": [
            "[1, 2, 3, 4, 5, 6, 9, 13, 15, 30, 45]\n"
          ],
          "name": "stdout"
        }
      ]
    },
    {
      "cell_type": "markdown",
      "metadata": {
        "id": "ufnqAC9qDg1G"
      },
      "source": [
        "Desafio 4\n",
        "\n",
        "Escreva uma função que receba uma string como parâmetro e retorne outra string com as palavras em ordem inversa."
      ]
    },
    {
      "cell_type": "code",
      "metadata": {
        "id": "qNR2fSHKh3vM"
      },
      "source": [
        "import re"
      ],
      "execution_count": 8,
      "outputs": []
    },
    {
      "cell_type": "code",
      "metadata": {
        "id": "FTSXe5bTDqYr"
      },
      "source": [
        "def inverte_texto():\n",
        "  frase=input(\"Qual frase deseja inverter? \")\n",
        "  frase=re.sub(r'[^A-Za-z0-9 ]+', '', frase)\n",
        "  return f'A frase que você digitou invertida fica: {\" \".join(frase.split()[::-1])}'"
      ],
      "execution_count": 9,
      "outputs": []
    },
    {
      "cell_type": "code",
      "metadata": {
        "id": "yDpxhEcGGms3",
        "outputId": "148f3402-7877-4e6d-af7e-109bece74d39",
        "colab": {
          "base_uri": "https://localhost:8080/",
          "height": 52
        }
      },
      "source": [
        "inverte_texto()"
      ],
      "execution_count": 10,
      "outputs": [
        {
          "output_type": "stream",
          "text": [
            "Qual frase deseja inverter? cole joe\n"
          ],
          "name": "stdout"
        },
        {
          "output_type": "execute_result",
          "data": {
            "application/vnd.google.colaboratory.intrinsic+json": {
              "type": "string"
            },
            "text/plain": [
              "'A frase que você digitou invertida fica: joe cole'"
            ]
          },
          "metadata": {
            "tags": []
          },
          "execution_count": 10
        }
      ]
    },
    {
      "cell_type": "markdown",
      "metadata": {
        "id": "wXKCgHHzb6Ep"
      },
      "source": [
        "Desafio 5\n",
        "\n",
        "Você trabalha em uma loja de sapatos e deve contatar uma lista de clientes dada pela seguinte lista de números de telefones:\n",
        "\n",
        "No entanto, alguns destes números estão duplicados. Você seria capaz de remover estes duplicados para evitar que clientes sejam contatado mais de uma vez?"
      ]
    },
    {
      "cell_type": "code",
      "metadata": {
        "id": "XrPVrzaUcA-5"
      },
      "source": [
        "numeros_telefone = [\n",
        "'(765) 368-1506',\n",
        "'(285) 608-2448',\n",
        "'(255) 826-9050',\n",
        "'(554) 994-1517',\n",
        "'(285) 608-2448',\n",
        "'(596) 336-5508',\n",
        "'(511) 821-7870',\n",
        "'(410) 665-4447',\n",
        "'(821) 642-8987',\n",
        "'(285) 608-2448',\n",
        "'(311) 799-3883',\n",
        "'(935) 875-2054',\n",
        "'(464) 788-2397',\n",
        "'(765) 368-1506',\n",
        "'(650) 684-1437',\n",
        "'(812) 816-0881',\n",
        "'(285) 608-2448',\n",
        "'(885) 407-1719',\n",
        "'(943) 769-1061',\n",
        "'(596) 336-5508',\n",
        "'(765) 368-1506',\n",
        "'(255) 826-9050',\n",
        "]"
      ],
      "execution_count": 11,
      "outputs": []
    },
    {
      "cell_type": "code",
      "metadata": {
        "id": "z482k06QcFeo",
        "outputId": "145a9ccc-b7c6-4009-eea0-18f531aee4a6",
        "colab": {
          "base_uri": "https://localhost:8080/",
          "height": 54
        }
      },
      "source": [
        "  lista_ordenada=set(numeros_telefone)\n",
        "  print (lista_ordenada)"
      ],
      "execution_count": 12,
      "outputs": [
        {
          "output_type": "stream",
          "text": [
            "{'(935) 875-2054', '(410) 665-4447', '(812) 816-0881', '(765) 368-1506', '(554) 994-1517', '(285) 608-2448', '(255) 826-9050', '(596) 336-5508', '(511) 821-7870', '(821) 642-8987', '(464) 788-2397', '(885) 407-1719', '(650) 684-1437', '(943) 769-1061', '(311) 799-3883'}\n"
          ],
          "name": "stdout"
        }
      ]
    },
    {
      "cell_type": "markdown",
      "metadata": {
        "id": "p6sbxQzGcmPZ"
      },
      "source": [
        "Desafio 6\n",
        "\n",
        "Crie uma função que receba duas listas e retorne uma lista que contenha apenas os elementos comuns entre as listas (sem repetição). A função deve suportar lista de tamanhos diferentes."
      ]
    },
    {
      "cell_type": "code",
      "metadata": {
        "id": "6cSyKOhecuY-"
      },
      "source": [
        "a = [1, 1, 2, 3, 5, 8, 13, 21, 34, 55, 89]\n",
        "\n",
        "b = [1, 2, 3, 4, 5, 6, 7, 8, 9, 10, 11, 12, 13]"
      ],
      "execution_count": 13,
      "outputs": []
    },
    {
      "cell_type": "code",
      "metadata": {
        "id": "J-zwHEgBcw2v"
      },
      "source": [
        "def Intersecao(lista1,lista2):\n",
        "\n",
        "  lista1=set(lista1)\n",
        "  lista2=set(lista2)\n",
        "\n",
        "  print(lista1.intersection(lista2))"
      ],
      "execution_count": 14,
      "outputs": []
    },
    {
      "cell_type": "code",
      "metadata": {
        "id": "iddNB7j7eEw3",
        "outputId": "51736ca8-d779-43e8-bac6-dab07f4ea461",
        "colab": {
          "base_uri": "https://localhost:8080/",
          "height": 34
        }
      },
      "source": [
        "Intersecao(a,b)"
      ],
      "execution_count": 15,
      "outputs": [
        {
          "output_type": "stream",
          "text": [
            "{1, 2, 3, 5, 8, 13}\n"
          ],
          "name": "stdout"
        }
      ]
    },
    {
      "cell_type": "markdown",
      "metadata": {
        "id": "4zfSHYqZgx4x"
      },
      "source": [
        "Desafio 7\n",
        "\n",
        "Um professor de universidade tem uma turma com os seguintes números de telefones:\n",
        "\n",
        "Ele criou um grupo do whatapp no entanto somente os seguintes números entraram:\n",
        "\n",
        "\n",
        "Você seria capaz de criar uma lista dos alunos que ainda não entraram no grupo para que sejam contatados individualmente?"
      ]
    },
    {
      "cell_type": "code",
      "metadata": {
        "id": "0aS-G_3hg8hV"
      },
      "source": [
        "telefones_alunos = ['(873) 810-8267', '(633) 244-7325', '(300) 303-5462', \n",
        "                    '(938) 300-8890', '(429) 264-7427', '(737) 805-2326', \n",
        "                    '(768) 956-8497', '(941) 225-3869', '(203) 606-9463', \n",
        "                    '(294) 430-7720', '(896) 781-5087', '(397) 845-8267', \n",
        "                    '(788) 717-6858', '(419) 734-4188', '(682) 595-3278', \n",
        "                    '(835) 955-1498', '(296) 415-9944', '(897) 932-2512', \n",
        "                    '(263) 415-3893', '(822) 640-8496', '(640) 427-2597', \n",
        "                    '(856) 338-7094', '(807) 554-4076', '(641) 367-5279', \n",
        "                    '(828) 866-0696', '(727) 376-5749', '(921) 948-2244', \n",
        "                    '(964) 710-9625', '(596) 685-1242', '(403) 343-7705', \n",
        "                    '(227) 389-3685', '(264) 372-7298', '(797) 649-3653', \n",
        "                    '(374) 361-3844', '(618) 490-4228', '(987) 803-5550', \n",
        "                    '(228) 976-9699', '(757) 450-9985', '(491) 666-5367',\n",
        "                    ]\n",
        "\n",
        "entraram_no_grupo = ['(596) 685-1242', '(727) 376-5749', '(987) 803-5550', \n",
        "                     '(633) 244-7325', '(828) 866-0696', '(263) 415-3893', \n",
        "                     '(203) 606-9463', '(296) 415-9944', '(419) 734-4188', \n",
        "                     '(618) 490-4228', '(682) 595-3278', '(938) 300-8890', \n",
        "                     '(264) 372-7298', '(768) 956-8497', '(737) 805-2326', \n",
        "                     '(788) 717-6858', '(228) 976-9699', '(896) 781-5087',\n",
        "                     '(374) 361-3844', '(921) 948-2244', '(807) 554-4076', \n",
        "                     '(822) 640-8496', '(227) 389-3685', '(429) 264-7427', \n",
        "                     '(397) 845-8267']                    "
      ],
      "execution_count": 16,
      "outputs": []
    },
    {
      "cell_type": "code",
      "metadata": {
        "id": "950lovqfhDAR"
      },
      "source": [
        "for i in entraram_no_grupo:\n",
        "  telefones_alunos.remove(i)  "
      ],
      "execution_count": 17,
      "outputs": []
    },
    {
      "cell_type": "code",
      "metadata": {
        "id": "Ydb7yWRyyeoW",
        "outputId": "524b0a09-70e6-4ad6-e4a3-749c7b4a4ee6",
        "colab": {
          "base_uri": "https://localhost:8080/",
          "height": 252
        }
      },
      "source": [
        "sorted(telefones_alunos)"
      ],
      "execution_count": 18,
      "outputs": [
        {
          "output_type": "execute_result",
          "data": {
            "text/plain": [
              "['(294) 430-7720',\n",
              " '(300) 303-5462',\n",
              " '(403) 343-7705',\n",
              " '(491) 666-5367',\n",
              " '(640) 427-2597',\n",
              " '(641) 367-5279',\n",
              " '(757) 450-9985',\n",
              " '(797) 649-3653',\n",
              " '(835) 955-1498',\n",
              " '(856) 338-7094',\n",
              " '(873) 810-8267',\n",
              " '(897) 932-2512',\n",
              " '(941) 225-3869',\n",
              " '(964) 710-9625']"
            ]
          },
          "metadata": {
            "tags": []
          },
          "execution_count": 18
        }
      ]
    },
    {
      "cell_type": "markdown",
      "metadata": {
        "id": "h3i0R0a4zyze"
      },
      "source": [
        "Desafio 8\n",
        "\n",
        "Escreva um script Python para encontrar as 10 palavras mais longas em um arquivo.\n",
        "\n",
        "O arquivo TXT está localizado na mesma pasta do projeto (texto.txt)."
      ]
    },
    {
      "cell_type": "code",
      "metadata": {
        "id": "AE3UbTVgz5l2",
        "outputId": "f34801dc-6349-42f6-a6b0-43a20924cb85",
        "colab": {
          "resources": {
            "http://localhost:8080/nbextensions/google.colab/files.js": {
              "data": "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",
              "ok": true,
              "headers": [
                [
                  "content-type",
                  "application/javascript"
                ]
              ],
              "status": 200,
              "status_text": ""
            }
          },
          "base_uri": "https://localhost:8080/",
          "height": 73
        }
      },
      "source": [
        "from google.colab import files\n",
        "uploaded = files.upload()"
      ],
      "execution_count": 19,
      "outputs": [
        {
          "output_type": "display_data",
          "data": {
            "text/html": [
              "\n",
              "     <input type=\"file\" id=\"files-2c8a6c3c-699d-4c9a-8893-e4891237d272\" name=\"files[]\" multiple disabled\n",
              "        style=\"border:none\" />\n",
              "     <output id=\"result-2c8a6c3c-699d-4c9a-8893-e4891237d272\">\n",
              "      Upload widget is only available when the cell has been executed in the\n",
              "      current browser session. Please rerun this cell to enable.\n",
              "      </output>\n",
              "      <script src=\"/nbextensions/google.colab/files.js\"></script> "
            ],
            "text/plain": [
              "<IPython.core.display.HTML object>"
            ]
          },
          "metadata": {
            "tags": []
          }
        },
        {
          "output_type": "stream",
          "text": [
            "Saving texto.txt to texto.txt\n"
          ],
          "name": "stdout"
        }
      ]
    },
    {
      "cell_type": "code",
      "metadata": {
        "id": "nu84tpRqg6mz"
      },
      "source": [
        "import pandas as pd\n",
        "import re\n",
        "import io\n",
        "df2 = pd.read_csv(io.BytesIO(uploaded['texto.txt']))"
      ],
      "execution_count": 20,
      "outputs": []
    },
    {
      "cell_type": "code",
      "metadata": {
        "id": "Ze5AUwoUg_Br",
        "outputId": "141af1d6-80b8-40ee-a3e8-31137126609a",
        "colab": {
          "base_uri": "https://localhost:8080/",
          "height": 54
        }
      },
      "source": [
        "uploaded"
      ],
      "execution_count": 21,
      "outputs": [
        {
          "output_type": "execute_result",
          "data": {
            "text/plain": [
              "{'texto.txt': b'What is Python language?                                                \\r\\nPython is a widely used high-level, general-purpose, interpreted, dynamic programming language.Its design philosophy emphasizes code readability, and its syntax allows programmers to express concepts in fewer lines of code than possible in \\r\\nlanguages such as C++ or Java. \\r\\nPython supports multiple programming paradigms, including object-oriented, imperative and functional programming or procedural styles.It features a dynamic type system and automatic memory management and has a large and comprehensive standard library.The best way we learn anything is by practice and exercise questions. We  have started this section for those (beginner to intermediate) who are familiar with Python.'}"
            ]
          },
          "metadata": {
            "tags": []
          },
          "execution_count": 21
        }
      ]
    },
    {
      "cell_type": "code",
      "metadata": {
        "id": "U_2ZS15ThyEF"
      },
      "source": [
        "texto=str(uploaded['texto.txt'],'utf-8')"
      ],
      "execution_count": 22,
      "outputs": []
    },
    {
      "cell_type": "code",
      "metadata": {
        "id": "Cv206WYriDBW",
        "outputId": "a29e47d0-f058-44aa-e8ce-20b2837eb698",
        "colab": {
          "base_uri": "https://localhost:8080/",
          "height": 185
        }
      },
      "source": [
        "texto=re.sub(r'[^A-Za-z0-9 ]+', '', texto)\n",
        "words=texto.split()\n",
        "palavras_ordenadas=sorted(set(words),key=len)\n",
        "topten=palavras_ordenadas[-10:]\n",
        "topten"
      ],
      "execution_count": 23,
      "outputs": [
        {
          "output_type": "execute_result",
          "data": {
            "text/plain": [
              "['libraryThe',\n",
              " 'interpreted',\n",
              " 'programming',\n",
              " 'readability',\n",
              " 'programmers',\n",
              " 'languageIts',\n",
              " 'intermediate',\n",
              " 'comprehensive',\n",
              " 'generalpurpose',\n",
              " 'objectoriented']"
            ]
          },
          "metadata": {
            "tags": []
          },
          "execution_count": 23
        }
      ]
    },
    {
      "cell_type": "markdown",
      "metadata": {
        "id": "ytd3ee8PamT9"
      },
      "source": [
        "Desafio 9\n",
        "\n",
        "Escreva uma função que retorne a soma dos múltiplos de 3 e 5 entre 0 e um número limite (parâmetro). Por exemplo, se o limite for 20, ele retornará a soma de 3, 5, 6, 9, 10, 12, 15, 18, 20."
      ]
    },
    {
      "cell_type": "code",
      "metadata": {
        "id": "fgPl3zzBapMT"
      },
      "source": [
        "def multiplos(a):\n",
        "  mult3=[]\n",
        "  mult5=[]\n",
        "  ult3=int(a/3)\n",
        "  ult5=int(a/5)\n",
        "\n",
        "  for i in range(0,ult3+1,1):\n",
        "    n=i*3\n",
        "    mult3.append(n)\n",
        "\n",
        "  for i in range(0,ult5+1,1):\n",
        "    m=i*5\n",
        "    mult5.append(m)\n",
        "\n",
        "  mult5=set(mult5)\n",
        "  mult3=set(mult3)\n",
        "  intersecao = mult5.intersection(mult3)\n",
        "\n",
        "  total = sum(mult3)+sum(mult5)-sum(intersecao)\n",
        "\n",
        "  return f'A soma dos múltiplos de 5 e 3 localizados entre 0 e {a} é {total}.'"
      ],
      "execution_count": 24,
      "outputs": []
    },
    {
      "cell_type": "code",
      "metadata": {
        "id": "UuyG803kh9Xs",
        "outputId": "ace85a24-0ccd-460d-c368-724b5ddbb2b2",
        "colab": {
          "base_uri": "https://localhost:8080/",
          "height": 35
        }
      },
      "source": [
        "multiplos(20)"
      ],
      "execution_count": 25,
      "outputs": [
        {
          "output_type": "execute_result",
          "data": {
            "application/vnd.google.colaboratory.intrinsic+json": {
              "type": "string"
            },
            "text/plain": [
              "'A soma dos múltiplos de 5 e 3 localizados entre 0 e 20 é 98.'"
            ]
          },
          "metadata": {
            "tags": []
          },
          "execution_count": 25
        }
      ]
    },
    {
      "cell_type": "markdown",
      "metadata": {
        "id": "0fVXbCXliKD6"
      },
      "source": [
        "Desafio 10\n",
        "\n",
        "Dada uma lista, divida-a em 3 partes iguais e reverta cada lista.\n",
        "\n",
        "Exemplo:\n",
        "\n",
        "sampleList = [11, 45, 8, 23, 14, 12, 78, 45, 89]\n",
        "\n",
        "Parte 1 [8, 45, 11]\n",
        "\n",
        "Parte 2 [12, 14, 23]\n",
        "\n",
        "Parte 3 [89, 45, 78]"
      ]
    },
    {
      "cell_type": "code",
      "metadata": {
        "id": "wiImUduBiPpo"
      },
      "source": [
        "sampleList = [11, 45, 8, 23, 14, 12, 78, 45, 89]"
      ],
      "execution_count": 26,
      "outputs": []
    },
    {
      "cell_type": "code",
      "metadata": {
        "id": "tSpR0nNQig-q",
        "outputId": "03878ed3-4938-48f2-ef13-27df0384665c",
        "colab": {
          "base_uri": "https://localhost:8080/",
          "height": 67
        }
      },
      "source": [
        "splited = []\n",
        "len_lista = len(sampleList)\n",
        "for i in range(3):\n",
        "    start = int(i*len_lista/3)\n",
        "    end = int((i+1)*len_lista/3)\n",
        "    sublista=sampleList[start:end]\n",
        "    ordenar = sorted(sublista,key=sublista.index, reverse=True)\n",
        "    print(f' Parte {i+1}: {ordenar}')"
      ],
      "execution_count": 27,
      "outputs": [
        {
          "output_type": "stream",
          "text": [
            " Parte 1: [8, 45, 11]\n",
            " Parte 2: [12, 14, 23]\n",
            " Parte 3: [89, 45, 78]\n"
          ],
          "name": "stdout"
        }
      ]
    },
    {
      "cell_type": "markdown",
      "metadata": {
        "id": "6m8pMLr-tF80"
      },
      "source": [
        "Desafio 11\n",
        "\n",
        "\n",
        "Dados uma sequência com n números inteiros, determinar quantos números da sequência são pares e quantos são ímpares. Por exemplo, para a sequência\n",
        "\n",
        "6   2   7  -5   8  -4\n",
        "\n",
        "a sua função deve retornar o número 4 para o número de pares e 2 para o de ímpares. A saída deve ser um tupla contendo primeiramente o número de pares e em seguida o número de ímpares. Para o exemplo anterior, a saída seria (4, 2)."
      ]
    },
    {
      "cell_type": "code",
      "metadata": {
        "id": "CGxHlWlttgso"
      },
      "source": [
        "lista=[6, 2, 7, -5 ,8 ,-4]"
      ],
      "execution_count": 28,
      "outputs": []
    },
    {
      "cell_type": "code",
      "metadata": {
        "id": "L9e6ehgbtWwn"
      },
      "source": [
        "def par_impar(entrada):\n",
        "  par=[]\n",
        "  impar=[]\n",
        "  for i in entrada:\n",
        "    if abs(i)%2==1:\n",
        "      par.append(0)\n",
        "      impar.append(1)\n",
        "    else:\n",
        "      par.append(1)\n",
        "      impar.append(0)\n",
        "\n",
        "  soma_par = sum(par)\n",
        "  soma_impar = sum(impar) \n",
        "  return (soma_par,soma_impar)    \n"
      ],
      "execution_count": 29,
      "outputs": []
    },
    {
      "cell_type": "code",
      "metadata": {
        "id": "49nvo20vusse",
        "outputId": "22069652-8da5-43c6-bcea-97d7befe1b8d",
        "colab": {
          "base_uri": "https://localhost:8080/",
          "height": 34
        }
      },
      "source": [
        "par_impar(lista)"
      ],
      "execution_count": 30,
      "outputs": [
        {
          "output_type": "execute_result",
          "data": {
            "text/plain": [
              "(4, 2)"
            ]
          },
          "metadata": {
            "tags": []
          },
          "execution_count": 30
        }
      ]
    },
    {
      "cell_type": "markdown",
      "metadata": {
        "id": "XmkRMzVhshQR"
      },
      "source": [
        "Desafio 12\n",
        "\n",
        "Escreva uma função em Python para verificar a validade de uma senha.\n",
        "\n",
        "Validação:\n",
        "\n",
        "Pelo menos 1 letra entre [a-z] e 1 letra entre [A-Z].\n",
        "\n",
        "Pelo menos 1 número entre [0-9].\n",
        "\n",
        "Pelo menos 1 caractere de [$ # @].\n",
        "\n",
        "Comprimento mínimo de 6 caracteres.\n",
        "\n",
        "Comprimento máximo de 16 caracteres.\n",
        "\n",
        "Entradas: \"12345678\", \"J3sus0\", \"#Te5t300\", \"J*90j12374\", \"Michheeul\", \"Monk3y6\"\n",
        "\n",
        "A saída deve ser a senha e um texto indicando se a senha é válida ou inválida:\n",
        "\n",
        "\"1234\" - Senha inválida\n",
        "\n",
        "\"Qw#1234\" - Senha válida"
      ]
    },
    {
      "cell_type": "code",
      "metadata": {
        "id": "komnfv_Qwopr"
      },
      "source": [
        "import re"
      ],
      "execution_count": 31,
      "outputs": []
    },
    {
      "cell_type": "code",
      "metadata": {
        "id": "yCP3DmHvwrGy"
      },
      "source": [
        "def test_password(password):\n",
        " \n",
        " min_number = 1\n",
        " min_upper_char = 1\n",
        " min_lower_char = 1\n",
        " min_special_char = 1\n",
        " min_len = 6\n",
        " max_len = 16\n",
        " \n",
        " if len(password) < min_len:\n",
        "     print(\"Tamanho minimo de:\", min_len)\n",
        " if len(password) >max_len:\n",
        "     print(\"Tamanho máximo de:\", max_len)\n",
        " if len(re.findall(r'[A-Z]', password)) < min_upper_char:\n",
        "     print(\"Precisa conter maiúsculas!\", min_upper_char)\n",
        " if len(re.findall(r'[a-z]', password)) < min_lower_char:\n",
        "     print(\"Precisa conter minúsculas!\", min_lower_char)\n",
        " if len(re.findall(r'\\d', password)) < min_number:\n",
        "     print(\"Precisa conter números!\", min_number)\n",
        " if len(re.findall(r'[@#$]', password)) < min_special_char:\n",
        "     print(\"Precisa conter caracteres especiais @#$\", min_special_char)\n",
        " else:\n",
        "     print(\"senha validada\")"
      ],
      "execution_count": 32,
      "outputs": []
    },
    {
      "cell_type": "code",
      "metadata": {
        "id": "aTrr8q9yyELA",
        "outputId": "ac0044dd-bea2-449e-9790-a868ad7cb012",
        "colab": {
          "base_uri": "https://localhost:8080/",
          "height": 67
        }
      },
      "source": [
        "test_password(\"12345678\")"
      ],
      "execution_count": 33,
      "outputs": [
        {
          "output_type": "stream",
          "text": [
            "Precisa conter maiúsculas! 1\n",
            "Precisa conter minúsculas! 1\n",
            "Precisa conter caracteres especiais @#$ 1\n"
          ],
          "name": "stdout"
        }
      ]
    },
    {
      "cell_type": "code",
      "metadata": {
        "id": "VKb0U2jjytyy",
        "outputId": "6fc3a77e-f085-48e1-8448-2cbda781a3cf",
        "colab": {
          "base_uri": "https://localhost:8080/",
          "height": 34
        }
      },
      "source": [
        "test_password(\"J3sus0\")"
      ],
      "execution_count": 34,
      "outputs": [
        {
          "output_type": "stream",
          "text": [
            "Precisa conter caracteres especiais @#$ 1\n"
          ],
          "name": "stdout"
        }
      ]
    },
    {
      "cell_type": "code",
      "metadata": {
        "id": "OYfzgeRYyt7D",
        "outputId": "cee8d343-a667-4552-fe77-9e50c216c622",
        "colab": {
          "base_uri": "https://localhost:8080/",
          "height": 34
        }
      },
      "source": [
        "test_password(\"#Te5t300\")"
      ],
      "execution_count": 35,
      "outputs": [
        {
          "output_type": "stream",
          "text": [
            "senha validada\n"
          ],
          "name": "stdout"
        }
      ]
    },
    {
      "cell_type": "code",
      "metadata": {
        "id": "1qM2Vc0HyuCI",
        "outputId": "8b7cb215-93eb-41ff-8dd5-d87cb5d4f7d6",
        "colab": {
          "base_uri": "https://localhost:8080/",
          "height": 34
        }
      },
      "source": [
        "test_password(\"J*90j12374\")"
      ],
      "execution_count": 36,
      "outputs": [
        {
          "output_type": "stream",
          "text": [
            "Precisa conter caracteres especiais @#$ 1\n"
          ],
          "name": "stdout"
        }
      ]
    },
    {
      "cell_type": "code",
      "metadata": {
        "id": "1cekgAJwy5Gi",
        "outputId": "857d24eb-9c96-4a32-8129-7971a757349a",
        "colab": {
          "base_uri": "https://localhost:8080/",
          "height": 50
        }
      },
      "source": [
        "test_password(\"Michheeul\")"
      ],
      "execution_count": 37,
      "outputs": [
        {
          "output_type": "stream",
          "text": [
            "Precisa conter números! 1\n",
            "Precisa conter caracteres especiais @#$ 1\n"
          ],
          "name": "stdout"
        }
      ]
    },
    {
      "cell_type": "code",
      "metadata": {
        "id": "hSgVHz4gy5QR",
        "outputId": "93e251d0-00af-4238-9be8-0c96cecdf52d",
        "colab": {
          "base_uri": "https://localhost:8080/",
          "height": 34
        }
      },
      "source": [
        "test_password(\"Monk3y6\")"
      ],
      "execution_count": 38,
      "outputs": [
        {
          "output_type": "stream",
          "text": [
            "Precisa conter caracteres especiais @#$ 1\n"
          ],
          "name": "stdout"
        }
      ]
    }
  ]
}