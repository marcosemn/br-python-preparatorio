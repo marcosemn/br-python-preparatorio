{
  "nbformat": 4,
  "nbformat_minor": 0,
  "metadata": {
    "colab": {
      "name": "Cópia de python_exercises_03_MarcosNogueira.ipynb",
      "provenance": [],
      "include_colab_link": true
    },
    "kernelspec": {
      "name": "python3",
      "display_name": "Python 3"
    }
  },
  "cells": [
    {
      "cell_type": "markdown",
      "metadata": {
        "id": "view-in-github",
        "colab_type": "text"
      },
      "source": [
        "<a href=\"https://colab.research.google.com/github/marcosemn/br-python-preparatorio/blob/master/C%C3%B3pia_de_python_exercises_03_MarcosNogueira.ipynb\" target=\"_parent\"><img src=\"https://colab.research.google.com/assets/colab-badge.svg\" alt=\"Open In Colab\"/></a>"
      ]
    },
    {
      "cell_type": "markdown",
      "metadata": {
        "id": "8YqaSZgXYJ5g",
        "colab_type": "text"
      },
      "source": [
        "![](https://i.imgur.com/YX6UATs.png)\n"
      ]
    },
    {
      "cell_type": "markdown",
      "metadata": {
        "id": "hhUVzDipaGb9",
        "colab_type": "text"
      },
      "source": [
        "### **Exercícios de Python - 3** \n",
        "\n",
        "\n",
        "\n"
      ]
    },
    {
      "cell_type": "markdown",
      "metadata": {
        "id": "7O6AZt8-aGlr",
        "colab_type": "text"
      },
      "source": [
        "1 - Classe Bola:\\\n",
        "Crie uma classe que modele uma bola:\n",
        "\n",
        "Atributos: Cor, material\\\n",
        "Métodos: trocaCor "
      ]
    },
    {
      "cell_type": "code",
      "metadata": {
        "id": "ibipMzmZcfIF",
        "colab_type": "code",
        "colab": {}
      },
      "source": [
        "class bola():\n",
        "  def __init__(self,material,cor=\"Branco\"):\n",
        "    self.cor=cor\n",
        "    self.material = material\n",
        "\n",
        "  def trocaCor(self):\n",
        "    self.cor=input(\"Qual a cor da bola? \")\n",
        "    print(f'A cor da bola agora é {self.cor}.')\n"
      ],
      "execution_count": 3,
      "outputs": []
    },
    {
      "cell_type": "code",
      "metadata": {
        "id": "G-WRGT800fIz",
        "colab_type": "code",
        "colab": {}
      },
      "source": [
        "voadora=bola(\"borracha\")"
      ],
      "execution_count": 4,
      "outputs": []
    },
    {
      "cell_type": "code",
      "metadata": {
        "id": "OlClUH7C01hp",
        "colab_type": "code",
        "colab": {
          "base_uri": "https://localhost:8080/",
          "height": 50
        },
        "outputId": "84c78289-2d35-4b2b-812f-beedd278fd5b"
      },
      "source": [
        "voadora.trocaCor()"
      ],
      "execution_count": 5,
      "outputs": [
        {
          "output_type": "stream",
          "text": [
            "Qual a cor da bola? preta\n",
            "A cor da bola agora é preta.\n"
          ],
          "name": "stdout"
        }
      ]
    },
    {
      "cell_type": "markdown",
      "metadata": {
        "id": "c62cM2VlKFqN",
        "colab_type": "text"
      },
      "source": [
        "2 - Classe Quadrado: Crie uma classe que modele um quadrado:\n",
        "\n",
        "Atributos: Tamanho do lado\n",
        "Métodos: Mudar valor do Lado e calcular Área;"
      ]
    },
    {
      "cell_type": "code",
      "metadata": {
        "id": "M_5mNjNbKFMI",
        "colab_type": "code",
        "colab": {}
      },
      "source": [
        "class quadrado():\n",
        "  def __init__(self,lado=1):\n",
        "    self.lado=lado\n",
        "\n",
        "  def area(self):\n",
        "    self.lado=input(\"Qual o lado do quadrado? \")\n",
        "    area=float(self.lado)**2\n",
        "    print(f' A área do quadrado é {area}.')  "
      ],
      "execution_count": 11,
      "outputs": []
    },
    {
      "cell_type": "code",
      "metadata": {
        "id": "g4N4Zi3-15jw",
        "colab_type": "code",
        "colab": {
          "base_uri": "https://localhost:8080/",
          "height": 50
        },
        "outputId": "479b384d-c9d8-4df6-a259-2c81ffbae081"
      },
      "source": [
        "square=quadrado()\n",
        "square.area()"
      ],
      "execution_count": 12,
      "outputs": [
        {
          "output_type": "stream",
          "text": [
            "Qual o lado do quadrado? 90\n",
            " A área do quadrado é 8100.0.\n"
          ],
          "name": "stdout"
        }
      ]
    },
    {
      "cell_type": "markdown",
      "metadata": {
        "id": "qMGp-h8OaGqr",
        "colab_type": "text"
      },
      "source": [
        "3 - Classe funcionário \\\n",
        "Crie uma classe que crie funcionários de uma empresa.\\\n",
        "Atributos: Nome, Função, Salário. \\\n",
        "Métodos: aumento anual. O aumento anual deve ser de 10%.\\\n",
        "Crie dois objetos e dê um aument de 10% a um deles e um aumento de 20% ao outro."
      ]
    },
    {
      "cell_type": "code",
      "metadata": {
        "id": "3lzz274Thi0Y",
        "colab_type": "code",
        "colab": {}
      },
      "source": [
        "class func():\n",
        "  def __init__(self, nome, funcao, salario):\n",
        "    self.nome=nome\n",
        "    self.funcao=funcao\n",
        "    self.salario=salario\n",
        "\n",
        "  def aumento(self,aumento=0.1):\n",
        "    self.salario=self.salario*(1+aumento)\n",
        "    print(f'O novo salário de {self.nome} é R$ {self.salario}.')  "
      ],
      "execution_count": 18,
      "outputs": []
    },
    {
      "cell_type": "code",
      "metadata": {
        "id": "jrCZRoxp4BQo",
        "colab_type": "code",
        "colab": {}
      },
      "source": [
        "morty = func(\"morty\",\"assistente\",40000)\n",
        "rick = func(\"rick\",\"boss\",1000000)"
      ],
      "execution_count": 20,
      "outputs": []
    },
    {
      "cell_type": "code",
      "metadata": {
        "id": "vrUxFlfQ4ZKl",
        "colab_type": "code",
        "colab": {
          "base_uri": "https://localhost:8080/",
          "height": 50
        },
        "outputId": "54fff4b7-961d-457d-8cd3-36d86c3411f4"
      },
      "source": [
        "morty.aumento()\n",
        "rick.aumento(0.2)"
      ],
      "execution_count": 21,
      "outputs": [
        {
          "output_type": "stream",
          "text": [
            "O novo salário de morty é R$ 44000.0.\n",
            "O novo salário de rick é R$ 1200000.0.\n"
          ],
          "name": "stdout"
        }
      ]
    },
    {
      "cell_type": "markdown",
      "metadata": {
        "id": "lCMWrvt3P4_x",
        "colab_type": "text"
      },
      "source": [
        "04 - Utilizando a biblioteca Numpy, obtenha as médias, medianas e desvios padrão de altura, peso e IMC dos membros do dicionário a seguir:\\\n",
        "Trasforme os dicionários em um numpy array e utilize os métodos próprios dessa classe."
      ]
    },
    {
      "cell_type": "code",
      "metadata": {
        "id": "l4qtSxU7XquB",
        "colab_type": "code",
        "colab": {}
      },
      "source": [
        "clientes = {'Charlotte': {'altura': 1.56, 'imc': 21, 'peso': 52, 'sexo': 'F'},\n",
        " 'Claudia': {'altura': 1.56, 'imc': 25, 'peso': 62, 'sexo': 'F'},\n",
        " 'Jonas': {'altura': 1.56, 'imc': 21, 'peso': 52, 'sexo': 'M'},\n",
        " 'Martha': {'altura': 1.98, 'imc': 19, 'peso': 76, 'sexo': 'F'},\n",
        " 'Mikkel': {'altura': 1.56, 'imc': 28, 'peso': 67, 'sexo': 'M'},\n",
        " 'Ulrich': {'altura': 1.92, 'imc': 22, 'peso': 80, 'sexo': 'M'}}"
      ],
      "execution_count": 22,
      "outputs": []
    },
    {
      "cell_type": "code",
      "metadata": {
        "id": "nv9z8He8hOLf",
        "colab_type": "code",
        "colab": {}
      },
      "source": [
        "import numpy as np"
      ],
      "execution_count": 23,
      "outputs": []
    },
    {
      "cell_type": "code",
      "metadata": {
        "id": "UEeo0s9e_f-W",
        "colab_type": "code",
        "colab": {}
      },
      "source": [
        "lista_imc=[]\n",
        "for i in clientes.keys():\n",
        "  imc=clientes[i][\"imc\"]\n",
        "  lista_imc.append(imc)\n",
        "\n",
        "lista_altura=[]\n",
        "for i in clientes.keys():\n",
        "  altura=clientes[i][\"altura\"]\n",
        "  lista_altura.append(altura)\n",
        "\n",
        "lista_peso=[]\n",
        "for i in clientes.keys():\n",
        "  peso=clientes[i][\"peso\"]\n",
        "  lista_peso.append(peso)  "
      ],
      "execution_count": 36,
      "outputs": []
    },
    {
      "cell_type": "code",
      "metadata": {
        "id": "DNHX0kNE6cJI",
        "colab_type": "code",
        "colab": {}
      },
      "source": [
        "df_imc=np.array(lista_imc)\n",
        "df_altura=np.array(lista_altura)\n",
        "df_peso = np.array(lista_peso)"
      ],
      "execution_count": 40,
      "outputs": []
    },
    {
      "cell_type": "code",
      "metadata": {
        "id": "ziW1ne_L8eEA",
        "colab_type": "code",
        "colab": {
          "base_uri": "https://localhost:8080/",
          "height": 34
        },
        "outputId": "48554848-68e9-490f-f682-9c793f87cefa"
      },
      "source": [
        "round(np.mean(df_imc,0),2)"
      ],
      "execution_count": 42,
      "outputs": [
        {
          "output_type": "execute_result",
          "data": {
            "text/plain": [
              "22.67"
            ]
          },
          "metadata": {
            "tags": []
          },
          "execution_count": 42
        }
      ]
    },
    {
      "cell_type": "code",
      "metadata": {
        "id": "znbtMyEPAaEW",
        "colab_type": "code",
        "colab": {
          "base_uri": "https://localhost:8080/",
          "height": 34
        },
        "outputId": "29a5eeea-7990-434b-c3d7-a81e34bd37a5"
      },
      "source": [
        "round(np.mean(df_altura,0),2)\n"
      ],
      "execution_count": 43,
      "outputs": [
        {
          "output_type": "execute_result",
          "data": {
            "text/plain": [
              "1.69"
            ]
          },
          "metadata": {
            "tags": []
          },
          "execution_count": 43
        }
      ]
    },
    {
      "cell_type": "code",
      "metadata": {
        "id": "b_fK-JkvAcGd",
        "colab_type": "code",
        "colab": {
          "base_uri": "https://localhost:8080/",
          "height": 34
        },
        "outputId": "50393d4f-3094-40de-97eb-e9ef2bd21097"
      },
      "source": [
        "round(np.mean(df_peso,0),2)"
      ],
      "execution_count": 44,
      "outputs": [
        {
          "output_type": "execute_result",
          "data": {
            "text/plain": [
              "64.83"
            ]
          },
          "metadata": {
            "tags": []
          },
          "execution_count": 44
        }
      ]
    },
    {
      "cell_type": "code",
      "metadata": {
        "id": "9GKSSCPbAebx",
        "colab_type": "code",
        "colab": {
          "base_uri": "https://localhost:8080/",
          "height": 34
        },
        "outputId": "811a59f9-9f32-4c7a-81f5-4413bc0982e2"
      },
      "source": [
        "round(np.std(df_imc,0),2)"
      ],
      "execution_count": 45,
      "outputs": [
        {
          "output_type": "execute_result",
          "data": {
            "text/plain": [
              "2.98"
            ]
          },
          "metadata": {
            "tags": []
          },
          "execution_count": 45
        }
      ]
    },
    {
      "cell_type": "code",
      "metadata": {
        "id": "DiUQb8imAm-n",
        "colab_type": "code",
        "colab": {
          "base_uri": "https://localhost:8080/",
          "height": 34
        },
        "outputId": "71581a40-ebb6-4fa1-a540-dab64a826c75"
      },
      "source": [
        "round(np.std(df_altura,0),2)"
      ],
      "execution_count": 46,
      "outputs": [
        {
          "output_type": "execute_result",
          "data": {
            "text/plain": [
              "0.18"
            ]
          },
          "metadata": {
            "tags": []
          },
          "execution_count": 46
        }
      ]
    },
    {
      "cell_type": "code",
      "metadata": {
        "id": "lUJY3BwuAnH3",
        "colab_type": "code",
        "colab": {
          "base_uri": "https://localhost:8080/",
          "height": 34
        },
        "outputId": "a473b45e-fb17-47c2-c441-22bfc987626a"
      },
      "source": [
        "round(np.std(df_peso,0),2)"
      ],
      "execution_count": 47,
      "outputs": [
        {
          "output_type": "execute_result",
          "data": {
            "text/plain": [
              "10.78"
            ]
          },
          "metadata": {
            "tags": []
          },
          "execution_count": 47
        }
      ]
    },
    {
      "cell_type": "code",
      "metadata": {
        "id": "7PztBC-2A5vv",
        "colab_type": "code",
        "colab": {
          "base_uri": "https://localhost:8080/",
          "height": 34
        },
        "outputId": "0173a57a-5e22-490b-97f3-c4278f9c5d16"
      },
      "source": [
        "round(np.median(df_imc,0),2)"
      ],
      "execution_count": 48,
      "outputs": [
        {
          "output_type": "execute_result",
          "data": {
            "text/plain": [
              "21.5"
            ]
          },
          "metadata": {
            "tags": []
          },
          "execution_count": 48
        }
      ]
    },
    {
      "cell_type": "code",
      "metadata": {
        "id": "g3xhyvlZBF9t",
        "colab_type": "code",
        "colab": {
          "base_uri": "https://localhost:8080/",
          "height": 34
        },
        "outputId": "5955ab9f-6026-4405-cb29-de7bee209a8c"
      },
      "source": [
        "round(np.median(df_altura,0),2)"
      ],
      "execution_count": 49,
      "outputs": [
        {
          "output_type": "execute_result",
          "data": {
            "text/plain": [
              "1.56"
            ]
          },
          "metadata": {
            "tags": []
          },
          "execution_count": 49
        }
      ]
    },
    {
      "cell_type": "code",
      "metadata": {
        "id": "bmOYLBfzBKAU",
        "colab_type": "code",
        "colab": {
          "base_uri": "https://localhost:8080/",
          "height": 34
        },
        "outputId": "b30d8227-2530-4cbf-bf65-050f2e45be97"
      },
      "source": [
        "round(np.median(df_peso,0),2)"
      ],
      "execution_count": 50,
      "outputs": [
        {
          "output_type": "execute_result",
          "data": {
            "text/plain": [
              "64.5"
            ]
          },
          "metadata": {
            "tags": []
          },
          "execution_count": 50
        }
      ]
    },
    {
      "cell_type": "markdown",
      "metadata": {
        "id": "1a_TuuI6QDWa",
        "colab_type": "text"
      },
      "source": [
        "05 - Realize o mesmo procedimento com a biblioteca Statistics\n"
      ]
    },
    {
      "cell_type": "code",
      "metadata": {
        "id": "y64mwLBVhN1L",
        "colab_type": "code",
        "colab": {}
      },
      "source": [
        "import statistics as st"
      ],
      "execution_count": 51,
      "outputs": []
    },
    {
      "cell_type": "code",
      "metadata": {
        "id": "OHpzPKNpCMuh",
        "colab_type": "code",
        "colab": {
          "base_uri": "https://localhost:8080/",
          "height": 34
        },
        "outputId": "e1d3cea8-6496-49eb-a7c6-29d86b9e2e58"
      },
      "source": [
        "st.mean(df_imc)"
      ],
      "execution_count": 52,
      "outputs": [
        {
          "output_type": "execute_result",
          "data": {
            "text/plain": [
              "22"
            ]
          },
          "metadata": {
            "tags": []
          },
          "execution_count": 52
        }
      ]
    },
    {
      "cell_type": "code",
      "metadata": {
        "id": "ck1nvgr1CfbI",
        "colab_type": "code",
        "colab": {
          "base_uri": "https://localhost:8080/",
          "height": 34
        },
        "outputId": "711fba48-d234-4fbc-9d4c-8fb840381565"
      },
      "source": [
        "st.median(df_imc)"
      ],
      "execution_count": 53,
      "outputs": [
        {
          "output_type": "execute_result",
          "data": {
            "text/plain": [
              "21.5"
            ]
          },
          "metadata": {
            "tags": []
          },
          "execution_count": 53
        }
      ]
    },
    {
      "cell_type": "code",
      "metadata": {
        "id": "uk0oYH3ICiXD",
        "colab_type": "code",
        "colab": {
          "base_uri": "https://localhost:8080/",
          "height": 34
        },
        "outputId": "a36ab86d-64d0-4237-d7b6-2520124885b4"
      },
      "source": [
        "st.pstdev(df_imc)"
      ],
      "execution_count": 55,
      "outputs": [
        {
          "output_type": "execute_result",
          "data": {
            "text/plain": [
              "2.8284271247461903"
            ]
          },
          "metadata": {
            "tags": []
          },
          "execution_count": 55
        }
      ]
    },
    {
      "cell_type": "code",
      "metadata": {
        "id": "xdEaodgqC_bF",
        "colab_type": "code",
        "colab": {
          "base_uri": "https://localhost:8080/",
          "height": 34
        },
        "outputId": "44ded01b-223d-43f2-cf6e-1108b1e3e8d5"
      },
      "source": [
        "st.mean(df_altura)"
      ],
      "execution_count": 56,
      "outputs": [
        {
          "output_type": "execute_result",
          "data": {
            "text/plain": [
              "1.69"
            ]
          },
          "metadata": {
            "tags": []
          },
          "execution_count": 56
        }
      ]
    },
    {
      "cell_type": "code",
      "metadata": {
        "id": "CU00P-6cDEDs",
        "colab_type": "code",
        "colab": {
          "base_uri": "https://localhost:8080/",
          "height": 34
        },
        "outputId": "ab3d94fa-d3b2-48c9-f69d-392a84d5c5c5"
      },
      "source": [
        "st.median(df_altura)"
      ],
      "execution_count": 57,
      "outputs": [
        {
          "output_type": "execute_result",
          "data": {
            "text/plain": [
              "1.56"
            ]
          },
          "metadata": {
            "tags": []
          },
          "execution_count": 57
        }
      ]
    },
    {
      "cell_type": "code",
      "metadata": {
        "id": "mKbV5WD-DFG9",
        "colab_type": "code",
        "colab": {
          "base_uri": "https://localhost:8080/",
          "height": 34
        },
        "outputId": "e4ba5b96-4ee5-4d29-9308-025074b36de4"
      },
      "source": [
        "st.pstdev(df_altura)"
      ],
      "execution_count": 58,
      "outputs": [
        {
          "output_type": "execute_result",
          "data": {
            "text/plain": [
              "0.18466185312619385"
            ]
          },
          "metadata": {
            "tags": []
          },
          "execution_count": 58
        }
      ]
    },
    {
      "cell_type": "code",
      "metadata": {
        "id": "Ajp6_6aWDF4U",
        "colab_type": "code",
        "colab": {
          "base_uri": "https://localhost:8080/",
          "height": 34
        },
        "outputId": "7827ce6d-3a39-40dd-b3b5-25dcd497b399"
      },
      "source": [
        "st.mean(df_peso)"
      ],
      "execution_count": 59,
      "outputs": [
        {
          "output_type": "execute_result",
          "data": {
            "text/plain": [
              "64"
            ]
          },
          "metadata": {
            "tags": []
          },
          "execution_count": 59
        }
      ]
    },
    {
      "cell_type": "code",
      "metadata": {
        "id": "AWvVS_r-DGAm",
        "colab_type": "code",
        "colab": {
          "base_uri": "https://localhost:8080/",
          "height": 34
        },
        "outputId": "0f14be6f-1064-4be3-8604-665c6da40abf"
      },
      "source": [
        "st.median(df_peso)"
      ],
      "execution_count": 60,
      "outputs": [
        {
          "output_type": "execute_result",
          "data": {
            "text/plain": [
              "64.5"
            ]
          },
          "metadata": {
            "tags": []
          },
          "execution_count": 60
        }
      ]
    },
    {
      "cell_type": "code",
      "metadata": {
        "id": "opalGJvUDGIQ",
        "colab_type": "code",
        "colab": {
          "base_uri": "https://localhost:8080/",
          "height": 34
        },
        "outputId": "6a2b5292-625c-4538-914f-4c11360f4b67"
      },
      "source": [
        "st.pstdev(df_peso)"
      ],
      "execution_count": 61,
      "outputs": [
        {
          "output_type": "execute_result",
          "data": {
            "text/plain": [
              "10.770329614269007"
            ]
          },
          "metadata": {
            "tags": []
          },
          "execution_count": 61
        }
      ]
    },
    {
      "cell_type": "markdown",
      "metadata": {
        "id": "Lm1tOKThnU42",
        "colab_type": "text"
      },
      "source": [
        "Exercícios adaptados de Python Brasil"
      ]
    }
  ]
}